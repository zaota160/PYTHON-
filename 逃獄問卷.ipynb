{
  "nbformat": 4,
  "nbformat_minor": 0,
  "metadata": {
    "colab": {
      "name": "逃獄問卷.ipynb",
      "provenance": [],
      "collapsed_sections": [],
      "authorship_tag": "ABX9TyNYkF/QiT8pElc32ATyxXtj",
      "include_colab_link": true
    },
    "kernelspec": {
      "name": "python3",
      "display_name": "Python 3"
    },
    "language_info": {
      "name": "python"
    }
  },
  "cells": [
    {
      "cell_type": "markdown",
      "metadata": {
        "id": "view-in-github",
        "colab_type": "text"
      },
      "source": [
        "<a href=\"https://colab.research.google.com/github/zaota160/PYTHON-/blob/main/%E9%80%83%E7%8D%84%E5%95%8F%E5%8D%B7.ipynb\" target=\"_parent\"><img src=\"https://colab.research.google.com/assets/colab-badge.svg\" alt=\"Open In Colab\"/></a>"
      ]
    },
    {
      "cell_type": "markdown",
      "metadata": {
        "id": "ESU-FL9pts7z"
      },
      "source": [
        "#高嘉均因為模擬考成績爛爛的，把希望寄託在特殊選才(ಥ_ಥ)<br>\n",
        "#故設計了一份python賽局，希望大家玩玩看，再幫忙把結果填到問卷<br>\n",
        "#請大家填寫不受拘束，不要先偷看程式碼<br>\n",
        "#感謝大家(இ﹏இ`｡)<br>"
      ]
    },
    {
      "cell_type": "markdown",
      "metadata": {
        "id": "9EvLAktCo7Nm"
      },
      "source": [
        "![](https://i2.wp.com/loketshirt.com/wp-content/uploads/2021/10/The-Squid-Game-Harry-Potter-Shirt.png?fit=1000%2C1000&ssl=1)"
      ]
    },
    {
      "cell_type": "markdown",
      "metadata": {
        "id": "Y0SeaLTV9hyu"
      },
      "source": [
        "#哈利波特因為被誣陷辱霍一整個炎上，判刑進阿茲卡班監獄拘留<br>\n",
        "#如果不逃獄，要被監禁80年，怕爆<br>\n",
        "#於是哈利決定開始逃獄<br>\n",
        "#您的選擇將決定他的命運，這是一場賽局<br>\n",
        "#保險起見，您最好在**150分鐘**內逃出監獄<br>\n",
        "#在沒有意外情況下，您預設逃獄時間是**120分鐘**<br>\n"
      ]
    },
    {
      "cell_type": "markdown",
      "metadata": {
        "id": "kIDMCGk2qzmZ"
      },
      "source": [
        "![](https://www.mobygames.com/images/shots/l/77168-harry-potter-and-the-prisoner-of-azkaban-windows-screenshot.png)\n"
      ]
    },
    {
      "cell_type": "markdown",
      "metadata": {
        "id": "r-WrJKw_WzKf"
      },
      "source": [
        "#問題1：入獄前鄧師傅給了您1/4份的**監獄地圖**，為了保險，您還做了一份**假地圖**<br>\n",
        "\n",
        "#放風時間，您先後會發現**有4個獄友**也想逃獄<br>\n",
        "#而且他們手上**也都有一份地圖**<br>\n",
        "#您首先遇到獄友1號，您會採取以下哪個選擇<br>\n",
        "#**A 合作交換地圖，未來逃獄時間加快10分鐘**<br>\n",
        "#**B 假意合作，給對方假地圖，引起獄卒注意，自己逃獄時間加快20分鐘**<br>\n",
        "#**C 不合作，因為對方可能也給假地圖**<br>\n",
        "#請按左下方play按鍵，並輸入**大寫字母**選項\n"
      ]
    },
    {
      "cell_type": "code",
      "metadata": {
        "id": "NJPQOlA54Uju"
      },
      "source": [
        "global q1\n",
        "global time1\n",
        "time1=120\n",
        "q1=str(input('請輸入你的選擇'))\n",
        "if q1=='A':\n",
        "  time1=time1-10\n",
        "  print('對方也選擇合作，逃獄時間',time1,'分鐘')\n",
        "elif q1=='B':\n",
        "  time1=time1+20\n",
        "  print('對方也給你假地圖時間增加為',time1,'分鐘')\n",
        "elif q1=='C':\n",
        "  time1=time1+0\n",
        "  print('對方也不跟你合作逃亡時間為',time1,'分鐘')\n",
        "else:\n",
        "  print('請再按一次開始鍵，並輸入單一大寫英文字母')\n",
        "\n",
        "  \n"
      ],
      "execution_count": null,
      "outputs": []
    },
    {
      "cell_type": "markdown",
      "metadata": {
        "id": "2ySMT5cIiSSa"
      },
      "source": [
        "#問題2：遇到也有地圖的獄友2，您會如何選擇\n",
        "\n",
        "\n",
        "#**A 合作交換地圖，未來逃獄時間加快10分鐘**<br>\n",
        "#**B 假意合作，給對方假地圖，引起獄卒注意，自己逃獄時間加快20分鐘**<br>\n",
        "#C **不合作，因為對方可能也給假地圖**<br>\n",
        "#請按左下方play按鍵，並輸入**大寫字母**選擇"
      ]
    },
    {
      "cell_type": "code",
      "metadata": {
        "id": "v193Hvwnh2Wi"
      },
      "source": [
        "global q2\n",
        "global time2\n",
        "time2=0\n",
        "q2=str(input('請輸入你的選擇'))\n",
        "if q2=='A':\n",
        "  time2=time1+20\n",
        "  print('對方給你假地圖，逃獄時間',time2,'分鐘')\n",
        "elif q2=='B':\n",
        "  time2=time1+20\n",
        "  print('對方給你假地圖',time2,'分鐘')\n",
        "elif q2=='C':\n",
        "  time2=time1+0\n",
        "  print('對方給你假地圖，但你沒看，時間為',time2,'分鐘')\n",
        "else:  \n",
        "  print('請再按一次開始鍵，並輸入單一大寫英文字母')"
      ],
      "execution_count": null,
      "outputs": []
    },
    {
      "cell_type": "markdown",
      "metadata": {
        "id": "7ij22qaLmHOe"
      },
      "source": [
        "#問題3：遇到也有地圖的獄友3，您會如何選擇\n",
        "\n",
        "#**A 合作交換地圖，未來逃獄時間加快5分鐘**<br>\n",
        "#**B 假意合作，給對方假地圖，引起獄卒注意，自己逃獄時間加快20分鐘**<br>\n",
        "#**C 不合作，因為對方可能也給假地圖**<br>\n",
        "#請按左下方play按鍵，並輸入**大寫字母**選擇"
      ]
    },
    {
      "cell_type": "code",
      "metadata": {
        "id": "oyscJqDanB-e"
      },
      "source": [
        "global q3\n",
        "global time3\n",
        "time3=0\n",
        "q3=str(input('請輸入你的選擇'))\n",
        "if q3=='A':\n",
        "  time3=time2-10\n",
        "  print('對方也跟你合作，逃獄時間',time3,'分鐘')\n",
        "elif q3=='B':\n",
        "  time3=time2-10\n",
        "  print('你給對方假地圖，對方給你真地圖，逃獄時間',time3,'分鐘')\n",
        "elif q3=='C':\n",
        "  time3=time2+0\n",
        "  print('對方給你真地圖，但你沒看，時間為',time3,'分鐘')\n",
        "else:  \n",
        "  print('請再按一次開始鍵，並輸入單一大寫英文字母')"
      ],
      "execution_count": null,
      "outputs": []
    },
    {
      "cell_type": "markdown",
      "metadata": {
        "id": "CJYpjxHxp1MP"
      },
      "source": [
        "#問題4：遇到最後一個獄友3，您會如何選擇\n",
        "\n",
        "#**A 合作交換地圖，未來逃獄時間加快10分鐘**<br>\n",
        "#**B 假意合作，給對方假地圖，引起獄卒注意，自己逃獄時間加快20分鐘**<br>\n",
        "#**C 不合作，因為對方可能也給假地圖**<br>\n",
        "#請按左下方play按鍵，並輸入**大寫字母**選擇"
      ]
    },
    {
      "cell_type": "code",
      "metadata": {
        "id": "XFrD7ZENp-Sv"
      },
      "source": [
        "global q4\n",
        "global time4\n",
        "time4=0\n",
        "q4=str(input('請輸入你的選擇'))\n",
        "if q4=='A':\n",
        "  time4=time3-10\n",
        "  print('對方也選擇合作，逃獄時間',time4,'分鐘')\n",
        "elif q4=='B':\n",
        "  time4=time3+20\n",
        "  print('對方也給你假地圖時間增加為',time4,'分鐘')\n",
        "elif q4=='C':\n",
        "  time4=time3+0\n",
        "  print('對方也不跟你合作逃亡時間為',time4,'分鐘')\n",
        "else:\n",
        "  print('請再按一次開始鍵，並輸入單一大寫英文字母')"
      ],
      "execution_count": null,
      "outputs": []
    },
    {
      "cell_type": "markdown",
      "metadata": {
        "id": "l4iKrV5KUuS_"
      },
      "source": [
        "#問題5：展開逃亡路上，遇到了弱弱的獄卒1，有以下選擇：<br>\n",
        "#A 賄賂獄卒，**有50%機會可以加速30分鐘**逃獄，**50%機會失敗，延遲30分鐘逃獄**<br>\n",
        "#B 不賄賂獄卒，**偷襲打一場有30%機率偷襲成功加速40分鐘,70%機率偷襲失敗延遲20分鐘出獄**<br>\n",
        "#請按左下方play按鍵，並輸入大寫字母選擇\n"
      ]
    },
    {
      "cell_type": "code",
      "metadata": {
        "id": "EjAdc_99YsQA"
      },
      "source": [
        "global q5\n",
        "global q5a\n",
        "global q5b\n",
        "global time5\n",
        "time5=0\n",
        "#___________________以下為獄卒機率___________________\n",
        "import random\n",
        "from random import sample \n",
        "Q5_Alist=[-30,30] # 50%機率List\n",
        "random_q5a=sample(Q5_Alist,1)# alist隨機挑一個裝到另一個list random_q3a\n",
        "q5a=random_q5a[0] # 從list抽出籤\n",
        "Q5_Blist=[-40,-40,-40,20,20,20,20,20,20,20] # 30%機率List\n",
        "random_q5b=sample(Q5_Blist,1)\n",
        "q5b=random_q5b[0]\n",
        "\n",
        "#___________________以下為選擇選項後的反應___________________\n",
        "q5=str(input('請輸入你的選擇'))\n",
        "if q5=='A':\n",
        "  time5=time4+q5a\n",
        "  if q5a==30:\n",
        "    print('獄卒不接受賄賂，延遲30分鐘')\n",
        "  elif q5a==-30:\n",
        "    print('獄卒接受賄賂，加速30分鐘')\n",
        "elif q5=='B':\n",
        "  time5=time4+q5b\n",
        "  if q5b==20:\n",
        "    print('偷襲不順利，延遲20分鐘')\n",
        "  elif q5b==-40:\n",
        "    print('偷襲成功，加速40分鐘')\n",
        "\n",
        "  \n",
        "\n",
        "else:\n",
        "  print('請再按一次開始鍵，並輸入單一大寫英文字母')\n"
      ],
      "execution_count": null,
      "outputs": []
    },
    {
      "cell_type": "markdown",
      "metadata": {
        "id": "RZiC3VoygNn3"
      },
      "source": [
        "#問題6：又遇到了一個獄卒，**但這個獄卒比較強**：<br>\n",
        "#A 賄賂獄卒，**有50%機會可以加速40分鐘逃獄**，50%機會延遲40分鐘逃獄<br>\n",
        "#B 不賄賂獄卒，**偷襲打一場有20%機率偷襲成功加速50分鐘,80%機率延遲30分鐘**出獄<br>\n",
        "#請按左下方play按鍵，並輸入大寫字母選擇"
      ]
    },
    {
      "cell_type": "code",
      "metadata": {
        "id": "vsFw4h1dgNVC"
      },
      "source": [
        "global q6\n",
        "global q6a\n",
        "global q6b\n",
        "global time6\n",
        "time6=0\n",
        "#___________________以下為獄卒機率___________________\n",
        "import random\n",
        "from random import sample \n",
        "Q6_Alist=[-40,40] # 50%機率List\n",
        "random_q6a=sample(Q6_Alist,1)# alist隨機挑一個裝到另一個list random_q3a\n",
        "q6a=random_q6a[0] # 從list抽出籤\n",
        "Q6_Blist=[-50,30,30,30,30] # 20%機率List\n",
        "random_q6b=sample(Q6_Blist,1)\n",
        "q6b=random_q6b[0]\n",
        "\n",
        "#___________________以下為選擇選項後的反應___________________\n",
        "q6=str(input('請輸入你的選擇'))\n",
        "if q6=='A':\n",
        "  time6=time5+q6a\n",
        "  if q6a==40:\n",
        "    print('獄卒不接受賄賂，延遲40分鐘')\n",
        "  elif q6a==-40:\n",
        "    print('獄卒接受賄賂，加速40分鐘')\n",
        "elif q6=='B':\n",
        "  time6=time5+q6b\n",
        "  if q6b==30:\n",
        "    print('偷襲不順利，延遲30分鐘')\n",
        "  elif q6b==-50:\n",
        "    print('偷襲成功，加速50分鐘')\n",
        "\n",
        "  \n",
        "\n",
        "else:\n",
        "  print('請再按一次開始鍵，並輸入單一大寫英文字母')"
      ],
      "execution_count": null,
      "outputs": []
    },
    {
      "cell_type": "markdown",
      "metadata": {
        "id": "el5crwh7rJ_e"
      },
      "source": [
        "#問題7：最終逃到圍牆時，需要翻牆，但前方已經有另一個逃獄者(為甚麼大家都逃了)<br>\n",
        "#但前方圍牆太高，您和他單獨都翻不過去，請問您要採取何種措施?\n",
        "#A 悄悄偷襲打昏他，踩著對方身體往上爬，他也不知道誰偷襲<br>\n",
        "#B 跟對方打聲招呼，互相協助翻牆過去<br>"
      ]
    },
    {
      "cell_type": "code",
      "metadata": {
        "id": "OHlbf3KivOYW"
      },
      "source": [
        "global q7\n",
        "\n",
        "q7=str(input('請輸入你的選擇'))\n",
        "if q7=='A':\n",
        "  print('您真的很壞呦呵呵，遊戲結束，您一共用了',time6,'分鐘')\n",
        "elif q7=='B':\n",
        "  print('您站在牆上，榮恩在牆下，獄卒追來了，請繼續作答問題8')\n",
        "  \n",
        "\n",
        "else:\n",
        "  print('請再按一次開始鍵，並輸入單一大寫英文字母')"
      ],
      "execution_count": null,
      "outputs": []
    },
    {
      "cell_type": "markdown",
      "metadata": {
        "id": "WCyymBgEyMb0"
      },
      "source": [
        "#問題8，如果您剛一起翻牆，獄卒追來了，請問您要救榮恩嗎?\n",
        "#A:救他\n",
        "#B:不救直接翻走"
      ]
    },
    {
      "cell_type": "code",
      "metadata": {
        "id": "JAPC1qSMyill"
      },
      "source": [
        "global q8\n",
        "q8=str(input('請輸入你的選擇'))\n",
        "if q8=='A':\n",
        "  print('榮恩不用被懷念了，您一共用了',time6,'分鐘')\n",
        "elif q8=='B':\n",
        "  print('榮恩被您拋棄了，哭阿，您一共用了',time6,'分鐘')\n",
        "  \n",
        "\n",
        "else:\n",
        "  print('請再按一次開始鍵，並輸入單一大寫英文字母')"
      ],
      "execution_count": null,
      "outputs": []
    },
    {
      "cell_type": "markdown",
      "metadata": {
        "id": "XvHsFDzzzWWy"
      },
      "source": [
        "# 感謝您的回答，請幫我把以下數據填到Google表單可以嗎?感謝您!!!\n",
        "\n",
        "\n",
        "```\n",
        "\n",
        "```\n",
        "\n",
        "\n"
      ]
    },
    {
      "cell_type": "code",
      "metadata": {
        "id": "uTiDxVuzzsKp"
      },
      "source": [
        "#按左邊play\n",
        "print('問題1:',q1,'問題2:',q2,'問題3:',q3,'問題4:',q4,'問題5:',q5,'問題6:',q6,'問題7:',q7,'問題8:',q8,'時間5:',time5,'時間6:',time6)"
      ],
      "execution_count": null,
      "outputs": []
    },
    {
      "cell_type": "markdown",
      "metadata": {
        "id": "FqY1JIhb7qny"
      },
      "source": [
        "# **以下為要麻煩幫忙填寫的問卷**\n",
        "# **請按右鍵在新分頁開啟連結**\n",
        "## **請按右鍵在新分頁開啟連結**\n",
        "### **請按右鍵在新分頁開啟連結**\n",
        "**請按右鍵在新分頁開啟連結**\n",
        "\n",
        "https://forms.gle/eheRhX4RyccPU5Nz6"
      ]
    }
  ]
}